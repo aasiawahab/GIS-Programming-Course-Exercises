{
 "cells": [
  {
   "cell_type": "markdown",
   "metadata": {},
   "source": [
    "# Storing Attributes of a Geographic Feature"
   ]
  },
  {
   "cell_type": "code",
   "execution_count": 12,
   "metadata": {},
   "outputs": [],
   "source": [
    "mountain_attributes = {\n",
    "    \"name\": \"Mount Everest\",\n",
    "    \"coordinates\": (27.9881, 86.9250),\n",
    "    \"slope\": \"Steep\"\n",
    "    \n",
    "}"
   ]
  },
  {
   "cell_type": "code",
   "execution_count": 13,
   "metadata": {},
   "outputs": [],
   "source": [
    "mountain_attributes[\"height\"] = 8849"
   ]
  },
  {
   "cell_type": "code",
   "execution_count": 14,
   "metadata": {},
   "outputs": [
    {
     "name": "stdout",
     "output_type": "stream",
     "text": [
      "{'name': 'Mount Everest', 'coordinates': (27.9881, 86.925), 'slope': 'Steep', 'height': 8849}\n"
     ]
    }
   ],
   "source": [
    "print(mountain_attributes)"
   ]
  },
  {
   "cell_type": "code",
   "execution_count": 22,
   "metadata": {},
   "outputs": [
    {
     "name": "stdout",
     "output_type": "stream",
     "text": [
      "Mountain: Mount Everest \n",
      "Location: (27.9881, 86.925) \n",
      "Slope: Steep \n",
      "Height in meters: 8849\n"
     ]
    }
   ],
   "source": [
    "print(f'''Mountain: {mountain_attributes[\"name\"]} \n",
    "Location: {mountain_attributes[\"coordinates\"]} \n",
    "Slope: {mountain_attributes[\"slope\"]} \n",
    "Height in meters: {mountain_attributes[\"height\"]}''')"
   ]
  },
  {
   "cell_type": "code",
   "execution_count": null,
   "metadata": {},
   "outputs": [],
   "source": []
  }
 ],
 "metadata": {
  "kernelspec": {
   "display_name": "gee",
   "language": "python",
   "name": "python3"
  },
  "language_info": {
   "codemirror_mode": {
    "name": "ipython",
    "version": 3
   },
   "file_extension": ".py",
   "mimetype": "text/x-python",
   "name": "python",
   "nbconvert_exporter": "python",
   "pygments_lexer": "ipython3",
   "version": "3.10.13"
  }
 },
 "nbformat": 4,
 "nbformat_minor": 2
}
