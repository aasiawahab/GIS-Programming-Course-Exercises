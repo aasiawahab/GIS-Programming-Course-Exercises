{
 "cells": [
  {
   "cell_type": "markdown",
   "metadata": {},
   "source": [
    "# Calculating Centroid from the Cities Coordinates"
   ]
  },
  {
   "cell_type": "markdown",
   "metadata": {},
   "source": [
    "## 1. List of coordinates of the 5 cities"
   ]
  },
  {
   "cell_type": "code",
   "execution_count": 1,
   "metadata": {},
   "outputs": [],
   "source": [
    "cities_coordinates = [\n",
    "    (33.6995, 73.0363),  # Islamabad\n",
    "    (31.5204, 74.3587),  # Lahore\n",
    "    (24.8607, 67.0011),  # Karachi\n",
    "    (34.0151, 71.5249),  # Peshawar\n",
    "    (30.1834, 66.9987),  # Quetta\n",
    "]"
   ]
  },
  {
   "cell_type": "markdown",
   "metadata": {},
   "source": [
    "## 2. Centroid of the coordinates"
   ]
  },
  {
   "cell_type": "code",
   "execution_count": 13,
   "metadata": {},
   "outputs": [
    {
     "name": "stdout",
     "output_type": "stream",
     "text": [
      "[33.6995, 31.5204, 24.8607, 34.0151, 30.1834]\n"
     ]
    }
   ],
   "source": [
    "latitudes = [lat[0] for lat in cities_coordinates]\n",
    "print(latitudes)"
   ]
  },
  {
   "cell_type": "code",
   "execution_count": 19,
   "metadata": {},
   "outputs": [
    {
     "name": "stdout",
     "output_type": "stream",
     "text": [
      "[73.0363, 74.3587, 67.0011, 71.5249, 66.9987]\n"
     ]
    }
   ],
   "source": [
    "longitudes = [city[1] for city in cities_coordinates]\n",
    "print(longitudes)"
   ]
  },
  {
   "cell_type": "code",
   "execution_count": 23,
   "metadata": {},
   "outputs": [
    {
     "name": "stdout",
     "output_type": "stream",
     "text": [
      "30.85582\n"
     ]
    }
   ],
   "source": [
    "centroid_lat = sum(latitudes)/len(latitudes)\n",
    "print(centroid_lat)"
   ]
  },
  {
   "cell_type": "code",
   "execution_count": 24,
   "metadata": {},
   "outputs": [
    {
     "name": "stdout",
     "output_type": "stream",
     "text": [
      "70.58394\n"
     ]
    }
   ],
   "source": [
    "centroid_lon = sum(longitudes)/len(longitudes)\n",
    "print(centroid_lon)"
   ]
  },
  {
   "cell_type": "code",
   "execution_count": 27,
   "metadata": {},
   "outputs": [
    {
     "name": "stdout",
     "output_type": "stream",
     "text": [
      "Centroid of the points is at: {'latitude': 30.85582, 'longitude': 70.58394}\n"
     ]
    }
   ],
   "source": [
    "centroid = {\n",
    "    \"latitude\": centroid_lat,\n",
    "    \"longitude\": centroid_lon\n",
    "    }\n",
    "print(\"Centroid of the points is at:\", centroid)"
   ]
  }
 ],
 "metadata": {
  "kernelspec": {
   "display_name": "gee",
   "language": "python",
   "name": "python3"
  },
  "language_info": {
   "codemirror_mode": {
    "name": "ipython",
    "version": 3
   },
   "file_extension": ".py",
   "mimetype": "text/x-python",
   "name": "python",
   "nbconvert_exporter": "python",
   "pygments_lexer": "ipython3",
   "version": "3.10.13"
  }
 },
 "nbformat": 4,
 "nbformat_minor": 2
}
